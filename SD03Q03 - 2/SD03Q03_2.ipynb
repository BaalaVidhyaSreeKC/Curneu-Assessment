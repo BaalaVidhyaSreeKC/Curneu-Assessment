{
  "nbformat": 4,
  "nbformat_minor": 0,
  "metadata": {
    "colab": {
      "name": "SD03Q03_2.ipynb",
      "provenance": []
    },
    "kernelspec": {
      "name": "python3",
      "display_name": "Python 3"
    }
  },
  "cells": [
    {
      "cell_type": "markdown",
      "metadata": {
        "id": "yeP-sz1PDuH4"
      },
      "source": [
        "# **Prediction of Diabetes using Suitable ML Model**"
      ]
    },
    {
      "cell_type": "markdown",
      "metadata": {
        "id": "Dew3QlhyE9zX"
      },
      "source": [
        "***Importing Required Packages***"
      ]
    },
    {
      "cell_type": "code",
      "metadata": {
        "id": "ET_yYcNjjdpC"
      },
      "source": [
        "import numpy as np\n",
        "import pandas as pd \n",
        "from sklearn.model_selection import train_test_split as TTS\n",
        "from sklearn import preprocessing\n",
        "from sklearn.preprocessing import StandardScaler as SS\n",
        "import matplotlib.pyplot as plt\n",
        "import seaborn as sns\n",
        "from scipy.stats import zscore\n",
        "from sklearn.svm import SVC \n",
        "from sklearn.preprocessing import MinMaxScaler as MMS\n",
        "from sklearn.preprocessing import LabelEncoder as LE\n",
        "from sklearn.metrics import accuracy_score as a_s, precision_score as p_s, confusion_matrix as c_m, classification_report as c_r\n",
        "from sklearn.linear_model import LogisticRegression as LR\n",
        "from sklearn.neighbors import KNeighborsClassifier as KNN\n",
        "from sklearn.model_selection import cross_val_score as CVS\n",
        "from sklearn.metrics import roc_auc_score as RAS\n",
        "from sklearn.naive_bayes import GaussianNB as NB\n",
        "from sklearn import tree \n",
        "from sklearn.ensemble import RandomForestClassifier as RFC\n",
        "import warnings\n",
        "warnings.filterwarnings(\"ignore\")"
      ],
      "execution_count": 27,
      "outputs": []
    },
    {
      "cell_type": "markdown",
      "metadata": {
        "id": "1I-T3pDJFKVc"
      },
      "source": [
        "***Data Preprocessing***"
      ]
    },
    {
      "cell_type": "code",
      "metadata": {
        "id": "r2jCPovOjuXm",
        "colab": {
          "base_uri": "https://localhost:8080/"
        },
        "outputId": "e6d0d493-d230-466f-f8e4-932574ec1893"
      },
      "source": [
        "data = pd.read_csv(\"/content/Diabetes Database.csv\")\r\n",
        "\r\n",
        "pred = dict([(1, 'has Diabetes'), (0, 'is Free from Diabetes')]) \r\n",
        "pred"
      ],
      "execution_count": 28,
      "outputs": [
        {
          "output_type": "execute_result",
          "data": {
            "text/plain": [
              "{0: 'is Free from Diabetes', 1: 'has Diabetes'}"
            ]
          },
          "metadata": {
            "tags": []
          },
          "execution_count": 28
        }
      ]
    },
    {
      "cell_type": "code",
      "metadata": {
        "id": "OdpVWaOLkoW5",
        "colab": {
          "base_uri": "https://localhost:8080/",
          "height": 282
        },
        "outputId": "95ddb489-e318-49b7-8dfa-0c7ff4ef1b4c"
      },
      "source": [
        "data.describe()"
      ],
      "execution_count": 29,
      "outputs": [
        {
          "output_type": "execute_result",
          "data": {
            "text/html": [
              "<div>\n",
              "<style scoped>\n",
              "    .dataframe tbody tr th:only-of-type {\n",
              "        vertical-align: middle;\n",
              "    }\n",
              "\n",
              "    .dataframe tbody tr th {\n",
              "        vertical-align: top;\n",
              "    }\n",
              "\n",
              "    .dataframe thead th {\n",
              "        text-align: right;\n",
              "    }\n",
              "</style>\n",
              "<table border=\"1\" class=\"dataframe\">\n",
              "  <thead>\n",
              "    <tr style=\"text-align: right;\">\n",
              "      <th></th>\n",
              "      <th>Pregnancies</th>\n",
              "      <th>Glucose</th>\n",
              "      <th>BloodPressure</th>\n",
              "      <th>SkinThickness</th>\n",
              "      <th>Insulin</th>\n",
              "      <th>BMI</th>\n",
              "      <th>DiabetesPedigreeFunction</th>\n",
              "      <th>Age</th>\n",
              "      <th>Outcome</th>\n",
              "    </tr>\n",
              "  </thead>\n",
              "  <tbody>\n",
              "    <tr>\n",
              "      <th>count</th>\n",
              "      <td>768.000000</td>\n",
              "      <td>768.000000</td>\n",
              "      <td>768.000000</td>\n",
              "      <td>768.000000</td>\n",
              "      <td>768.000000</td>\n",
              "      <td>768.000000</td>\n",
              "      <td>768.000000</td>\n",
              "      <td>768.000000</td>\n",
              "      <td>768.000000</td>\n",
              "    </tr>\n",
              "    <tr>\n",
              "      <th>mean</th>\n",
              "      <td>3.845052</td>\n",
              "      <td>120.894531</td>\n",
              "      <td>69.105469</td>\n",
              "      <td>20.536458</td>\n",
              "      <td>79.799479</td>\n",
              "      <td>31.992578</td>\n",
              "      <td>0.471876</td>\n",
              "      <td>33.240885</td>\n",
              "      <td>0.348958</td>\n",
              "    </tr>\n",
              "    <tr>\n",
              "      <th>std</th>\n",
              "      <td>3.369578</td>\n",
              "      <td>31.972618</td>\n",
              "      <td>19.355807</td>\n",
              "      <td>15.952218</td>\n",
              "      <td>115.244002</td>\n",
              "      <td>7.884160</td>\n",
              "      <td>0.331329</td>\n",
              "      <td>11.760232</td>\n",
              "      <td>0.476951</td>\n",
              "    </tr>\n",
              "    <tr>\n",
              "      <th>min</th>\n",
              "      <td>0.000000</td>\n",
              "      <td>0.000000</td>\n",
              "      <td>0.000000</td>\n",
              "      <td>0.000000</td>\n",
              "      <td>0.000000</td>\n",
              "      <td>0.000000</td>\n",
              "      <td>0.078000</td>\n",
              "      <td>21.000000</td>\n",
              "      <td>0.000000</td>\n",
              "    </tr>\n",
              "    <tr>\n",
              "      <th>25%</th>\n",
              "      <td>1.000000</td>\n",
              "      <td>99.000000</td>\n",
              "      <td>62.000000</td>\n",
              "      <td>0.000000</td>\n",
              "      <td>0.000000</td>\n",
              "      <td>27.300000</td>\n",
              "      <td>0.243750</td>\n",
              "      <td>24.000000</td>\n",
              "      <td>0.000000</td>\n",
              "    </tr>\n",
              "    <tr>\n",
              "      <th>50%</th>\n",
              "      <td>3.000000</td>\n",
              "      <td>117.000000</td>\n",
              "      <td>72.000000</td>\n",
              "      <td>23.000000</td>\n",
              "      <td>30.500000</td>\n",
              "      <td>32.000000</td>\n",
              "      <td>0.372500</td>\n",
              "      <td>29.000000</td>\n",
              "      <td>0.000000</td>\n",
              "    </tr>\n",
              "    <tr>\n",
              "      <th>75%</th>\n",
              "      <td>6.000000</td>\n",
              "      <td>140.250000</td>\n",
              "      <td>80.000000</td>\n",
              "      <td>32.000000</td>\n",
              "      <td>127.250000</td>\n",
              "      <td>36.600000</td>\n",
              "      <td>0.626250</td>\n",
              "      <td>41.000000</td>\n",
              "      <td>1.000000</td>\n",
              "    </tr>\n",
              "    <tr>\n",
              "      <th>max</th>\n",
              "      <td>17.000000</td>\n",
              "      <td>199.000000</td>\n",
              "      <td>122.000000</td>\n",
              "      <td>99.000000</td>\n",
              "      <td>846.000000</td>\n",
              "      <td>67.100000</td>\n",
              "      <td>2.420000</td>\n",
              "      <td>81.000000</td>\n",
              "      <td>1.000000</td>\n",
              "    </tr>\n",
              "  </tbody>\n",
              "</table>\n",
              "</div>"
            ],
            "text/plain": [
              "       Pregnancies     Glucose  ...         Age     Outcome\n",
              "count   768.000000  768.000000  ...  768.000000  768.000000\n",
              "mean      3.845052  120.894531  ...   33.240885    0.348958\n",
              "std       3.369578   31.972618  ...   11.760232    0.476951\n",
              "min       0.000000    0.000000  ...   21.000000    0.000000\n",
              "25%       1.000000   99.000000  ...   24.000000    0.000000\n",
              "50%       3.000000  117.000000  ...   29.000000    0.000000\n",
              "75%       6.000000  140.250000  ...   41.000000    1.000000\n",
              "max      17.000000  199.000000  ...   81.000000    1.000000\n",
              "\n",
              "[8 rows x 9 columns]"
            ]
          },
          "metadata": {
            "tags": []
          },
          "execution_count": 29
        }
      ]
    },
    {
      "cell_type": "code",
      "metadata": {
        "id": "oq4ofb2LkoeD",
        "colab": {
          "base_uri": "https://localhost:8080/"
        },
        "outputId": "6d16a8d9-f6ab-4630-eba7-6e55c58658f6"
      },
      "source": [
        "data.info()"
      ],
      "execution_count": 30,
      "outputs": [
        {
          "output_type": "stream",
          "text": [
            "<class 'pandas.core.frame.DataFrame'>\n",
            "RangeIndex: 768 entries, 0 to 767\n",
            "Data columns (total 9 columns):\n",
            " #   Column                    Non-Null Count  Dtype  \n",
            "---  ------                    --------------  -----  \n",
            " 0   Pregnancies               768 non-null    int64  \n",
            " 1   Glucose                   768 non-null    int64  \n",
            " 2   BloodPressure             768 non-null    int64  \n",
            " 3   SkinThickness             768 non-null    int64  \n",
            " 4   Insulin                   768 non-null    int64  \n",
            " 5   BMI                       768 non-null    float64\n",
            " 6   DiabetesPedigreeFunction  768 non-null    float64\n",
            " 7   Age                       768 non-null    int64  \n",
            " 8   Outcome                   768 non-null    int64  \n",
            "dtypes: float64(2), int64(7)\n",
            "memory usage: 54.1 KB\n"
          ],
          "name": "stdout"
        }
      ]
    },
    {
      "cell_type": "code",
      "metadata": {
        "id": "2Zch1K_j6t18",
        "colab": {
          "base_uri": "https://localhost:8080/",
          "height": 606
        },
        "outputId": "f0575478-bfa0-41ed-c34d-072b4454b23e"
      },
      "source": [
        "data.hist(figsize=(10,10))\n",
        "plt.show()"
      ],
      "execution_count": 31,
      "outputs": [
        {
          "output_type": "display_data",
          "data": {
            "image/png": "[encoded data removed]",
            "text/plain": [
              "<Figure size 720x720 with 9 Axes>"
            ]
          },
          "metadata": {
            "tags": []
          }
        }
      ]
    },
    {
      "cell_type": "code",
      "metadata": {
        "id": "hG_zpaagkoig",
        "colab": {
          "base_uri": "https://localhost:8080/"
        },
        "outputId": "b84fdba3-d5de-481a-e095-df3531fc3061"
      },
      "source": [
        "z_scores = zscore(data.iloc[:,:-1])\n",
        "abs_z_scores = np.abs(z_scores)\n",
        "filtered_entries = (abs_z_scores < 3).all(axis=1)\n",
        "data_outlir = data[filtered_entries]\n",
        "data_outlir.shape"
      ],
      "execution_count": 32,
      "outputs": [
        {
          "output_type": "execute_result",
          "data": {
            "text/plain": [
              "(688, 9)"
            ]
          },
          "metadata": {
            "tags": []
          },
          "execution_count": 32
        }
      ]
    },
    {
      "cell_type": "code",
      "metadata": {
        "id": "9K6uZ0T6kob2",
        "colab": {
          "base_uri": "https://localhost:8080/"
        },
        "outputId": "c8bf6fd8-982c-4269-8487-7db032d553e8"
      },
      "source": [
        "data_outlir['Outcome'].value_counts()"
      ],
      "execution_count": 33,
      "outputs": [
        {
          "output_type": "execute_result",
          "data": {
            "text/plain": [
              "0    461\n",
              "1    227\n",
              "Name: Outcome, dtype: int64"
            ]
          },
          "metadata": {
            "tags": []
          },
          "execution_count": 33
        }
      ]
    },
    {
      "cell_type": "code",
      "metadata": {
        "id": "KqATWiH2koTc",
        "colab": {
          "base_uri": "https://localhost:8080/"
        },
        "outputId": "a6dd8a13-f736-4f37-d8cf-75af16ae5f20"
      },
      "source": [
        "scaler = MMS()\n",
        "data_std = scaler.fit_transform(data_outlir.iloc[:,:-1])\n",
        "data_std = pd.DataFrame(data_std)\n",
        "data_std.shape"
      ],
      "execution_count": 34,
      "outputs": [
        {
          "output_type": "execute_result",
          "data": {
            "text/plain": [
              "(688, 8)"
            ]
          },
          "metadata": {
            "tags": []
          },
          "execution_count": 34
        }
      ]
    },
    {
      "cell_type": "markdown",
      "metadata": {
        "id": "MmfxBrn0OTJG"
      },
      "source": [
        "***Exploratory Data Analysis***"
      ]
    },
    {
      "cell_type": "code",
      "metadata": {
        "id": "BSpuxDkdkoR4"
      },
      "source": [
        "data_va = data_std.var(axis= 0)\n",
        "data_vas = data_va.sort_values(ascending=False)\n",
        "y = data_vas.values \n",
        "x = range(len(y))"
      ],
      "execution_count": 35,
      "outputs": []
    },
    {
      "cell_type": "code",
      "metadata": {
        "id": "ScqeJyY1lT02",
        "colab": {
          "base_uri": "https://localhost:8080/",
          "height": 349
        },
        "outputId": "6a43a126-d05b-46f1-bd32-0ece7b4fd8ac"
      },
      "source": [
        "plt.figure(figsize = (5,5))\n",
        "plt.plot(x, y)\n",
        "plt.title(\"MULTI - COLLINEARITY CHECK\")\n",
        "plt.xlabel(\"ATTRIBUTES\")\n",
        "plt.ylabel(\"VARIANCES\")\n",
        "plt.show()"
      ],
      "execution_count": 36,
      "outputs": [
        {
          "output_type": "display_data",
          "data": {
            "image/png": "[encoded data removed]",
            "text/plain": [
              "<Figure size 360x360 with 1 Axes>"
            ]
          },
          "metadata": {
            "tags": []
          }
        }
      ]
    },
    {
      "cell_type": "markdown",
      "metadata": {
        "id": "WoHhaPIkhghV"
      },
      "source": [
        "##### **Splitting data into Train and Test sets**"
      ]
    },
    {
      "cell_type": "code",
      "metadata": {
        "id": "_GEE3hKRl2WO"
      },
      "source": [
        "X = data_outlir.iloc[:, :-1].values\r\n",
        "Y = data_outlir['Outcome'].values\r\n",
        "\r\n",
        "X_train, X_test, y_train, y_test = TTS(X, Y, test_size=0.33, random_state=42)"
      ],
      "execution_count": 37,
      "outputs": []
    },
    {
      "cell_type": "markdown",
      "metadata": {
        "id": "SIrR3DU5iWBG"
      },
      "source": [
        "## **To Check for Suitable ML Models**"
      ]
    },
    {
      "cell_type": "code",
      "metadata": {
        "id": "i9qda-PoQ_gQ"
      },
      "source": [
        "lr = LR(C = 0.2)\r\n",
        "clf1 = lr.fit(X_train, y_train)"
      ],
      "execution_count": 38,
      "outputs": []
    },
    {
      "cell_type": "code",
      "metadata": {
        "id": "VEmJixviQ_be"
      },
      "source": [
        "nb = NB()\r\n",
        "clf2 = nb.fit(X_train, y_train)"
      ],
      "execution_count": 39,
      "outputs": []
    },
    {
      "cell_type": "code",
      "metadata": {
        "id": "rsBL3mDkQ_aQ"
      },
      "source": [
        "dt = tree.DecisionTreeClassifier(criterion='entropy')\r\n",
        "clf3 = dt.fit(X_train, y_train)"
      ],
      "execution_count": 40,
      "outputs": []
    },
    {
      "cell_type": "code",
      "metadata": {
        "id": "VXN2ousLQ_WZ"
      },
      "source": [
        "rf = RFC(max_depth=5, random_state=0, n_estimators=100)\r\n",
        "clf4 = rf.fit(X_train, y_train)"
      ],
      "execution_count": 41,
      "outputs": []
    },
    {
      "cell_type": "code",
      "metadata": {
        "id": "ytNOUaMkQ_U8"
      },
      "source": [
        "svm = SVC(probability=True)\r\n",
        "clf5 = svm.fit(X_train, y_train)"
      ],
      "execution_count": 42,
      "outputs": []
    },
    {
      "cell_type": "code",
      "metadata": {
        "id": "wqmtCS-T_1Xo"
      },
      "source": [
        "knn = KNN(n_neighbors = 3, metric = 'euclidean', p = 2)\n",
        "clf6 = knn.fit(X_train, y_train)"
      ],
      "execution_count": 43,
      "outputs": []
    },
    {
      "cell_type": "code",
      "metadata": {
        "id": "AmGhaUhpK8xf",
        "colab": {
          "base_uri": "https://localhost:8080/",
          "height": 403
        },
        "outputId": "69d95d22-55f8-451e-eeba-041b05173909"
      },
      "source": [
        "pred_prob1 = clf1.predict_proba(X_test)\n",
        "pred_prob2 = clf2.predict_proba(X_test)\n",
        "pred_prob3 = clf3.predict_proba(X_test)\n",
        "pred_prob4 = clf4.predict_proba(X_test)\n",
        "pred_prob5 = clf5.predict_proba(X_test)\n",
        "pred_prob6 = clf6.predict_proba(X_test)\n",
        "\n",
        "from sklearn.metrics import roc_curve\n",
        "\n",
        "fpr1, tpr1, thresh1 = roc_curve(y_test, pred_prob1[:,1], pos_label=1)\n",
        "fpr2, tpr2, thresh2 = roc_curve(y_test, pred_prob2[:,1], pos_label=1)\n",
        "fpr3, tpr3, thresh3 = roc_curve(y_test, pred_prob3[:,1], pos_label=1)\n",
        "fpr4, tpr4, thresh4 = roc_curve(y_test, pred_prob4[:,1], pos_label=1)\n",
        "fpr5, tpr5, thresh5 = roc_curve(y_test, pred_prob5[:,1], pos_label=1)\n",
        "fpr6, tpr6, thresh6 = roc_curve(y_test, pred_prob6[:,1], pos_label=1)\n",
        "\n",
        "random_probs = [0 for i in range(len(y_test))]\n",
        "p_fpr, p_tpr, _ = roc_curve(y_test, random_probs, pos_label=1)\n",
        "\n",
        "import matplotlib.pyplot as plt\n",
        "plt.style.use('seaborn')\n",
        "plt.figure(figsize = (9, 6))\n",
        "\n",
        "plt.plot(fpr1, tpr1, linestyle='--',color='orange', label='LR')\n",
        "plt.plot(fpr2, tpr2, linestyle='--',color='green', label='NB')\n",
        "plt.plot(fpr3, tpr3, linestyle='--',color='red', label='DT')\n",
        "plt.plot(fpr4, tpr4, linestyle='--',color='purple', label='RF')\n",
        "plt.plot(fpr5, tpr5, linestyle='--',color='black', label='SVM')\n",
        "plt.plot(fpr6, tpr6, linestyle='--',color='grey', label='KNN')\n",
        "plt.plot(p_fpr, p_tpr, linestyle='--', color='blue')\n",
        "\n",
        "plt.title('ROC - AUC Curve')\n",
        "plt.xlabel('False Positive Rate')\n",
        "plt.ylabel('True Positive rate')\n",
        "plt.legend(loc = 'lower right')\n",
        "plt.savefig('ROC')\n",
        "plt.show()"
      ],
      "execution_count": 44,
      "outputs": [
        {
          "output_type": "display_data",
          "data": {
            "image/png": "[encoded data removed]",
            "text/plain": [
              "<Figure size 648x432 with 1 Axes>"
            ]
          },
          "metadata": {
            "tags": []
          }
        }
      ]
    },
    {
      "cell_type": "markdown",
      "metadata": {
        "id": "FcDZeFYBRHXZ"
      },
      "source": [
        "***Model Optimization***"
      ]
    },
    {
      "cell_type": "code",
      "metadata": {
        "id": "3tP3wsEtL4iv",
        "colab": {
          "base_uri": "https://localhost:8080/",
          "height": 507
        },
        "outputId": "85878f53-113c-4a32-aa30-8ec8358aa044"
      },
      "source": [
        "from sklearn import model_selection\n",
        "models = []\n",
        "models.append(('LR', lr))\n",
        "models.append(('NB', nb))\n",
        "models.append(('DT', dt))\n",
        "models.append(('RF', rf))\n",
        "models.append(('SVM', svm))\n",
        "models.append(('KNN', knn))\n",
        "# evaluate each model in turn\n",
        "results = []\n",
        "names = []\n",
        "scoring = 'accuracy'\n",
        "for name, model in models:\n",
        "\tkfold = model_selection.KFold(n_splits=5)\n",
        "\tcv_results = model_selection.cross_val_score(model, X_train, y_train, cv=kfold, scoring=scoring)\n",
        "\tresults.append(cv_results)\n",
        "\tnames.append(name)\n",
        "\tmsg = \"%s   : %.3f (%.3f)\" % (name, cv_results.mean(), cv_results.std())\n",
        "\tprint(msg)\n",
        "fig = plt.figure()\n",
        "fig.suptitle('Algorithm Comparison')\n",
        "ax = fig.add_subplot(111)\n",
        "plt.boxplot(results)\n",
        "plt.xlabel(\"CLASSIFICATION MODEL\")\n",
        "plt.ylabel(\"CROSS VALIDATION SCORES\")\n",
        "ax.set_xticklabels(names)\n",
        "plt.show()"
      ],
      "execution_count": 45,
      "outputs": [
        {
          "output_type": "stream",
          "text": [
            "LR   : 0.770 (0.046)\n",
            "NB   : 0.750 (0.027)\n",
            "DT   : 0.680 (0.042)\n",
            "RF   : 0.772 (0.033)\n",
            "SVM   : 0.733 (0.056)\n",
            "KNN   : 0.670 (0.048)\n"
          ],
          "name": "stdout"
        },
        {
          "output_type": "display_data",
          "data": {
            "image/png": "[encoded data removed]",
            "text/plain": [
              "<Figure size 576x396 with 1 Axes>"
            ]
          },
          "metadata": {
            "tags": []
          }
        }
      ]
    },
    {
      "cell_type": "markdown",
      "metadata": {
        "id": "nd5p_DuijZw7"
      },
      "source": [
        "# **Best Suitable Model: Random Forest**"
      ]
    },
    {
      "cell_type": "markdown",
      "metadata": {
        "id": "YrLWMFg5jmeb"
      },
      "source": [
        "### **Random Forest Classifier Function**"
      ]
    },
    {
      "cell_type": "code",
      "metadata": {
        "id": "8S_RJVIHWD18"
      },
      "source": [
        "import numpy as np\r\n",
        "from collections import Counter\r\n",
        "\r\n",
        "def entropy(y):\r\n",
        "    hist = np.bincount(y)\r\n",
        "    ps = hist / len(y)\r\n",
        "    return -np.sum([p * np.log2(p) for p in ps if p > 0])\r\n",
        "\r\n",
        "class Node:\r\n",
        "    def __init__(self, feature=None, threshold=None, left=None, right=None, *, value=None):\r\n",
        "        self.feature = feature\r\n",
        "        self.threshold = threshold\r\n",
        "        self.left = left\r\n",
        "        self.right = right\r\n",
        "        self.value = value\r\n",
        "    def is_leaf_node(self):\r\n",
        "        return self.value is not None\r\n",
        "\r\n",
        "class DecisionTree:\r\n",
        "    def __init__(self, min_samples_split=2, max_depth=100, n_feats=None):\r\n",
        "        self.min_samples_split = min_samples_split\r\n",
        "        self.max_depth = max_depth\r\n",
        "        self.n_feats = n_feats\r\n",
        "        self.root = None\r\n",
        "    def fit(self, X, y):\r\n",
        "        self.n_feats = X.shape[1] if not self.n_feats else min(self.n_feats, X.shape[1])\r\n",
        "        self.root = self._grow_tree(X, y)\r\n",
        "    def predict(self, X):\r\n",
        "        return np.array([self._traverse_tree(x, self.root) for x in X])\r\n",
        "    def _grow_tree(self, X, y, depth=0):\r\n",
        "        n_samples, n_features = X.shape\r\n",
        "        n_labels = len(np.unique(y))\r\n",
        "        if (depth >= self.max_depth\r\n",
        "                or n_labels == 1\r\n",
        "                or n_samples < self.min_samples_split):\r\n",
        "            leaf_value = self._most_common_label(y)\r\n",
        "            return Node(value=leaf_value)\r\n",
        "        feat_idxs = np.random.choice(n_features, self.n_feats, replace=False)\r\n",
        "        best_feat, best_thresh = self._best_criteria(X, y, feat_idxs)\r\n",
        "        left_idxs, right_idxs = self._split(X[:, best_feat], best_thresh)\r\n",
        "        left = self._grow_tree(X[left_idxs, :], y[left_idxs], depth+1)\r\n",
        "        right = self._grow_tree(X[right_idxs, :], y[right_idxs], depth+1)\r\n",
        "        return Node(best_feat, best_thresh, left, right)\r\n",
        "    def _best_criteria(self, X, y, feat_idxs):\r\n",
        "        best_gain = -1\r\n",
        "        split_idx, split_thresh = None, None\r\n",
        "        for feat_idx in feat_idxs:\r\n",
        "            X_column = X[:, feat_idx]\r\n",
        "            thresholds = np.unique(X_column)\r\n",
        "            for threshold in thresholds:\r\n",
        "                gain = self._information_gain(y, X_column, threshold)\r\n",
        "                if gain > best_gain:\r\n",
        "                    best_gain = gain\r\n",
        "                    split_idx = feat_idx\r\n",
        "                    split_thresh = threshold\r\n",
        "        return split_idx, split_thresh\r\n",
        "    def _information_gain(self, y, X_column, split_thresh):\r\n",
        "        parent_entropy = entropy(y)\r\n",
        "        left_idxs, right_idxs = self._split(X_column, split_thresh)\r\n",
        "        if len(left_idxs) == 0 or len(right_idxs) == 0:\r\n",
        "            return 0\r\n",
        "        n = len(y)\r\n",
        "        n_l, n_r = len(left_idxs), len(right_idxs)\r\n",
        "        e_l, e_r = entropy(y[left_idxs]), entropy(y[right_idxs])\r\n",
        "        child_entropy = (n_l / n) * e_l + (n_r / n) * e_r\r\n",
        "        ig = parent_entropy - child_entropy\r\n",
        "        return ig\r\n",
        "    def _split(self, X_column, split_thresh):\r\n",
        "        left_idxs = np.argwhere(X_column <= split_thresh).flatten()\r\n",
        "        right_idxs = np.argwhere(X_column > split_thresh).flatten()\r\n",
        "        return left_idxs, right_idxs\r\n",
        "    def _traverse_tree(self, x, node):\r\n",
        "        if node.is_leaf_node():\r\n",
        "            return node.value\r\n",
        "        if x[node.feature] <= node.threshold:\r\n",
        "            return self._traverse_tree(x, node.left)\r\n",
        "        return self._traverse_tree(x, node.right)\r\n",
        "    def _most_common_label(self, y):\r\n",
        "        counter = Counter(y)\r\n",
        "        most_common = counter.most_common(1)[0][0]\r\n",
        "        return most_common\r\n",
        "\r\n",
        "def bootstrap_sample(X, y):\r\n",
        "    n_samples = X.shape[0]\r\n",
        "    idxs = np.random.choice(n_samples, n_samples, replace=True)\r\n",
        "    return X[idxs], y[idxs]\r\n",
        "\r\n",
        "def most_common_label(y):\r\n",
        "    counter = Counter(y)\r\n",
        "    most_common = counter.most_common(1)[0][0]\r\n",
        "    return most_common\r\n",
        "\r\n",
        "class RandomForest:\r\n",
        "    \r\n",
        "    def __init__(self, n_trees=10, min_samples_split=2,\r\n",
        "                 max_depth=100, n_feats=None):\r\n",
        "        self.n_trees = n_trees\r\n",
        "        self.min_samples_split = min_samples_split\r\n",
        "        self.max_depth = max_depth\r\n",
        "        self.n_feats = n_feats\r\n",
        "        self.trees = []\r\n",
        "    def fit(self, X, y):\r\n",
        "        self.trees = []\r\n",
        "        for _ in range(self.n_trees):\r\n",
        "            tree = DecisionTree(min_samples_split=self.min_samples_split,\r\n",
        "                max_depth=self.max_depth, n_feats=self.n_feats)\r\n",
        "            X_samp, y_samp = bootstrap_sample(X, y)\r\n",
        "            tree.fit(X_samp, y_samp)\r\n",
        "            self.trees.append(tree)\r\n",
        "    def predict(self, X):\r\n",
        "        tree_preds = np.array([tree.predict(X) for tree in self.trees])\r\n",
        "        tree_preds = np.swapaxes(tree_preds, 0, 1)\r\n",
        "        y_pred = [most_common_label(tree_pred) for tree_pred in tree_preds]\r\n",
        "        return np.array(y_pred)"
      ],
      "execution_count": 46,
      "outputs": []
    },
    {
      "cell_type": "markdown",
      "metadata": {
        "id": "fY_4dOL7rxUI"
      },
      "source": [
        "## **Prediction using the Classifier**"
      ]
    },
    {
      "cell_type": "code",
      "metadata": {
        "colab": {
          "base_uri": "https://localhost:8080/"
        },
        "id": "TSLNNRo0WFMj",
        "outputId": "b2aace36-c2cd-43cd-ad0d-ad3b02385ee1"
      },
      "source": [
        "import pandas as pd\r\n",
        "from sklearn import datasets\r\n",
        "from sklearn.model_selection import train_test_split\r\n",
        "\r\n",
        "def accuracy(y_true, y_pred):\r\n",
        "    accuracy = np.sum(y_true == y_pred) / len(y_true)\r\n",
        "    return accuracy\r\n",
        "\r\n",
        "clf = RandomForest(n_trees=50, max_depth=5)\r\n",
        "\r\n",
        "clf.fit(X_train, y_train)\r\n",
        "y_pred = clf.predict(X_test)\r\n",
        "acc = accuracy(y_test, y_pred)\r\n",
        "\r\n",
        "print (\"Accuracy:\", acc)"
      ],
      "execution_count": 47,
      "outputs": [
        {
          "output_type": "stream",
          "text": [
            "Accuracy: 0.7587719298245614\n"
          ],
          "name": "stdout"
        }
      ]
    },
    {
      "cell_type": "markdown",
      "metadata": {
        "id": "VSZzfKumr3Ze"
      },
      "source": [
        "Classification Report"
      ]
    },
    {
      "cell_type": "code",
      "metadata": {
        "colab": {
          "base_uri": "https://localhost:8080/"
        },
        "id": "CxILXmCNoQdu",
        "outputId": "463db466-6ed8-4393-cf4c-0b21b0dd88f1"
      },
      "source": [
        "print('CLASSIFICATION REPORT\\n\\n', c_r(y_test, y_pred))"
      ],
      "execution_count": 48,
      "outputs": [
        {
          "output_type": "stream",
          "text": [
            "CLASSIFICATION REPORT\n",
            "\n",
            "               precision    recall  f1-score   support\n",
            "\n",
            "           0       0.77      0.88      0.82       143\n",
            "           1       0.73      0.55      0.63        85\n",
            "\n",
            "    accuracy                           0.76       228\n",
            "   macro avg       0.75      0.72      0.73       228\n",
            "weighted avg       0.76      0.76      0.75       228\n",
            "\n"
          ],
          "name": "stdout"
        }
      ]
    },
    {
      "cell_type": "markdown",
      "metadata": {
        "id": "ISXH21gVr89o"
      },
      "source": [
        "Confusion Matrix"
      ]
    },
    {
      "cell_type": "code",
      "metadata": {
        "colab": {
          "base_uri": "https://localhost:8080/"
        },
        "id": "R4IEjgyisBgH",
        "outputId": "f3feb978-2058-421a-c1c2-9d694e80c0e1"
      },
      "source": [
        "cm1 = c_m(y_test, y_pred)\r\n",
        "print(\"CONFUSION MATRIX : \\n\\n\",cm1)"
      ],
      "execution_count": 49,
      "outputs": [
        {
          "output_type": "stream",
          "text": [
            "CONFUSION MATRIX : \n",
            "\n",
            " [[126  17]\n",
            " [ 38  47]]\n"
          ],
          "name": "stdout"
        }
      ]
    },
    {
      "cell_type": "markdown",
      "metadata": {
        "id": "EWIcXGnGjspH"
      },
      "source": [
        "## **Test Cases**"
      ]
    },
    {
      "cell_type": "code",
      "metadata": {
        "colab": {
          "base_uri": "https://localhost:8080/"
        },
        "id": "PYTe3zZvdFOL",
        "outputId": "0f22cf8b-5b28-4b1a-ce4e-cd7aaf311a99"
      },
      "source": [
        "test_case_1 = clf.predict([[6, 148,\t72,\t35,\t0, 33.6, 0.627, 50]])\r\n",
        "\r\n",
        "print('The Patient', ''.join(map(str, pred[test_case_1[0]])))"
      ],
      "execution_count": 50,
      "outputs": [
        {
          "output_type": "stream",
          "text": [
            "The Patient has Diabetes\n"
          ],
          "name": "stdout"
        }
      ]
    },
    {
      "cell_type": "code",
      "metadata": {
        "colab": {
          "base_uri": "https://localhost:8080/"
        },
        "id": "TNqACZQAnD6H",
        "outputId": "88784af8-232a-4030-e6ee-f531144a3b1f"
      },
      "source": [
        "test_case_2 = clf.predict([[1, 85, 66, 29, 0,\t26.6,\t0.351, 31, 0]])\r\n",
        "\r\n",
        "print('The Patient', ''.join(map(str, pred[test_case_2[0]])))"
      ],
      "execution_count": 51,
      "outputs": [
        {
          "output_type": "stream",
          "text": [
            "The Patient is Free from Diabetes\n"
          ],
          "name": "stdout"
        }
      ]
    }
  ]
}