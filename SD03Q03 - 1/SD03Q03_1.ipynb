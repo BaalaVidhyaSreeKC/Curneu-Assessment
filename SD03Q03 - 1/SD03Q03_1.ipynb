{
  "nbformat": 4,
  "nbformat_minor": 0,
  "metadata": {
    "colab": {
      "name": "SD03Q03_1.ipynb",
      "provenance": [],
      "collapsed_sections": []
    },
    "kernelspec": {
      "name": "python3",
      "display_name": "Python 3"
    }
  },
  "cells": [
    {
      "cell_type": "markdown",
      "metadata": {
        "id": "Gh2utbSUCXAN"
      },
      "source": [
        "## **FRUIT CLASSIFICATION USING K - NEAREST NEIGHBOURS (KNN) ALGORITHM**"
      ]
    },
    {
      "cell_type": "markdown",
      "metadata": {
        "id": "tMaq_IpqCmXE"
      },
      "source": [
        "###**Importing Required Libraries**"
      ]
    },
    {
      "cell_type": "code",
      "metadata": {
        "id": "PAjC_kdDDBF0"
      },
      "source": [
        "import numpy as np\n",
        "import pandas as pd\n",
        "import matplotlib.pyplot as plt\n",
        "from collections import Counter\n",
        "from sklearn.model_selection import train_test_split as TTS\n",
        "from sklearn.preprocessing import MinMaxScaler as MMS"
      ],
      "execution_count": 1,
      "outputs": []
    },
    {
      "cell_type": "markdown",
      "metadata": {
        "id": "vOKMc4fyC1PA"
      },
      "source": [
        "#####*Importing Fruit Dataset*"
      ]
    },
    {
      "cell_type": "code",
      "metadata": {
        "id": "quoDyVie7NJe",
        "colab": {
          "base_uri": "https://localhost:8080/"
        },
        "outputId": "cadf9242-fbe6-43b0-b96f-3c5950a73f18"
      },
      "source": [
        "data = pd.read_csv('/content/fruits.csv')\n",
        "\n",
        "pred = dict(zip(data.fruit_label.unique(), data.fruit_name.unique()))   \n",
        "pred"
      ],
      "execution_count": 2,
      "outputs": [
        {
          "output_type": "execute_result",
          "data": {
            "text/plain": [
              "{1: 'apple', 2: 'mandarin', 3: 'orange', 4: 'lemon'}"
            ]
          },
          "metadata": {
            "tags": []
          },
          "execution_count": 2
        }
      ]
    },
    {
      "cell_type": "markdown",
      "metadata": {
        "id": "igE2sE6IOLis"
      },
      "source": [
        "### **Knowing the dataset**"
      ]
    },
    {
      "cell_type": "code",
      "metadata": {
        "id": "O4byJz3s5u-h",
        "colab": {
          "base_uri": "https://localhost:8080/"
        },
        "outputId": "b5fcda68-9e77-450b-96b6-04cc2eecc998"
      },
      "source": [
        "data.info()"
      ],
      "execution_count": 3,
      "outputs": [
        {
          "output_type": "stream",
          "text": [
            "<class 'pandas.core.frame.DataFrame'>\n",
            "RangeIndex: 59 entries, 0 to 58\n",
            "Data columns (total 6 columns):\n",
            " #   Column       Non-Null Count  Dtype  \n",
            "---  ------       --------------  -----  \n",
            " 0   fruit_label  59 non-null     int64  \n",
            " 1   fruit_name   59 non-null     object \n",
            " 2   mass         59 non-null     int64  \n",
            " 3   width        59 non-null     float64\n",
            " 4   height       59 non-null     float64\n",
            " 5   color_score  59 non-null     float64\n",
            "dtypes: float64(3), int64(2), object(1)\n",
            "memory usage: 2.9+ KB\n"
          ],
          "name": "stdout"
        }
      ]
    },
    {
      "cell_type": "code",
      "metadata": {
        "id": "ra06I-Of51wY",
        "colab": {
          "base_uri": "https://localhost:8080/",
          "height": 282
        },
        "outputId": "fe126bdb-63fa-45e6-c7cb-eb6d8efb07a9"
      },
      "source": [
        "data.describe()"
      ],
      "execution_count": 4,
      "outputs": [
        {
          "output_type": "execute_result",
          "data": {
            "text/html": [
              "<div>\n",
              "<style scoped>\n",
              "    .dataframe tbody tr th:only-of-type {\n",
              "        vertical-align: middle;\n",
              "    }\n",
              "\n",
              "    .dataframe tbody tr th {\n",
              "        vertical-align: top;\n",
              "    }\n",
              "\n",
              "    .dataframe thead th {\n",
              "        text-align: right;\n",
              "    }\n",
              "</style>\n",
              "<table border=\"1\" class=\"dataframe\">\n",
              "  <thead>\n",
              "    <tr style=\"text-align: right;\">\n",
              "      <th></th>\n",
              "      <th>fruit_label</th>\n",
              "      <th>mass</th>\n",
              "      <th>width</th>\n",
              "      <th>height</th>\n",
              "      <th>color_score</th>\n",
              "    </tr>\n",
              "  </thead>\n",
              "  <tbody>\n",
              "    <tr>\n",
              "      <th>count</th>\n",
              "      <td>59.000000</td>\n",
              "      <td>59.000000</td>\n",
              "      <td>59.000000</td>\n",
              "      <td>59.000000</td>\n",
              "      <td>59.000000</td>\n",
              "    </tr>\n",
              "    <tr>\n",
              "      <th>mean</th>\n",
              "      <td>2.542373</td>\n",
              "      <td>163.118644</td>\n",
              "      <td>7.105085</td>\n",
              "      <td>7.693220</td>\n",
              "      <td>0.762881</td>\n",
              "    </tr>\n",
              "    <tr>\n",
              "      <th>std</th>\n",
              "      <td>1.208048</td>\n",
              "      <td>55.018832</td>\n",
              "      <td>0.816938</td>\n",
              "      <td>1.361017</td>\n",
              "      <td>0.076857</td>\n",
              "    </tr>\n",
              "    <tr>\n",
              "      <th>min</th>\n",
              "      <td>1.000000</td>\n",
              "      <td>76.000000</td>\n",
              "      <td>5.800000</td>\n",
              "      <td>4.000000</td>\n",
              "      <td>0.550000</td>\n",
              "    </tr>\n",
              "    <tr>\n",
              "      <th>25%</th>\n",
              "      <td>1.000000</td>\n",
              "      <td>140.000000</td>\n",
              "      <td>6.600000</td>\n",
              "      <td>7.200000</td>\n",
              "      <td>0.720000</td>\n",
              "    </tr>\n",
              "    <tr>\n",
              "      <th>50%</th>\n",
              "      <td>3.000000</td>\n",
              "      <td>158.000000</td>\n",
              "      <td>7.200000</td>\n",
              "      <td>7.600000</td>\n",
              "      <td>0.750000</td>\n",
              "    </tr>\n",
              "    <tr>\n",
              "      <th>75%</th>\n",
              "      <td>4.000000</td>\n",
              "      <td>177.000000</td>\n",
              "      <td>7.500000</td>\n",
              "      <td>8.200000</td>\n",
              "      <td>0.810000</td>\n",
              "    </tr>\n",
              "    <tr>\n",
              "      <th>max</th>\n",
              "      <td>4.000000</td>\n",
              "      <td>362.000000</td>\n",
              "      <td>9.600000</td>\n",
              "      <td>10.500000</td>\n",
              "      <td>0.930000</td>\n",
              "    </tr>\n",
              "  </tbody>\n",
              "</table>\n",
              "</div>"
            ],
            "text/plain": [
              "       fruit_label        mass      width     height  color_score\n",
              "count    59.000000   59.000000  59.000000  59.000000    59.000000\n",
              "mean      2.542373  163.118644   7.105085   7.693220     0.762881\n",
              "std       1.208048   55.018832   0.816938   1.361017     0.076857\n",
              "min       1.000000   76.000000   5.800000   4.000000     0.550000\n",
              "25%       1.000000  140.000000   6.600000   7.200000     0.720000\n",
              "50%       3.000000  158.000000   7.200000   7.600000     0.750000\n",
              "75%       4.000000  177.000000   7.500000   8.200000     0.810000\n",
              "max       4.000000  362.000000   9.600000  10.500000     0.930000"
            ]
          },
          "metadata": {
            "tags": []
          },
          "execution_count": 4
        }
      ]
    },
    {
      "cell_type": "markdown",
      "metadata": {
        "id": "Et7jni3IOXjP"
      },
      "source": [
        "##### *Checking for null values*"
      ]
    },
    {
      "cell_type": "code",
      "metadata": {
        "id": "0zrtsL5J565K",
        "colab": {
          "base_uri": "https://localhost:8080/"
        },
        "outputId": "8b9828da-cff3-4f5c-a7f9-161643e95b6d"
      },
      "source": [
        "data.isnull().sum()"
      ],
      "execution_count": 5,
      "outputs": [
        {
          "output_type": "execute_result",
          "data": {
            "text/plain": [
              "fruit_label    0\n",
              "fruit_name     0\n",
              "mass           0\n",
              "width          0\n",
              "height         0\n",
              "color_score    0\n",
              "dtype: int64"
            ]
          },
          "metadata": {
            "tags": []
          },
          "execution_count": 5
        }
      ]
    },
    {
      "cell_type": "code",
      "metadata": {
        "id": "eb-Er4M4rRQf",
        "colab": {
          "base_uri": "https://localhost:8080/",
          "height": 607
        },
        "outputId": "260e8e6a-f4d7-4463-cdeb-01df8b33b3c5"
      },
      "source": [
        "data.hist(figsize=(10,10))\r\n",
        "plt.show()"
      ],
      "execution_count": 6,
      "outputs": [
        {
          "output_type": "display_data",
          "data": {
            "image/png": "[encoded data removed]",
            "text/plain": [
              "<Figure size 720x720 with 6 Axes>"
            ]
          },
          "metadata": {
            "tags": [],
            "needs_background": "light"
          }
        }
      ]
    },
    {
      "cell_type": "markdown",
      "metadata": {
        "id": "6nZmtnl9OktI"
      },
      "source": [
        "### **Plots comparing different attributes** "
      ]
    },
    {
      "cell_type": "code",
      "metadata": {
        "id": "bGbtQiIh5W_C",
        "colab": {
          "base_uri": "https://localhost:8080/",
          "height": 350
        },
        "outputId": "7841ec10-a9a4-4390-8de9-8ae176ade54e"
      },
      "source": [
        "plt.figure(figsize=(8,5))\r\n",
        "plt.scatter(data['width'], data['height'])\r\n",
        "plt.title('Width & Height')\r\n",
        "plt.xlabel('Width')\r\n",
        "plt.ylabel('Height')\r\n",
        "plt.show()"
      ],
      "execution_count": 7,
      "outputs": [
        {
          "output_type": "display_data",
          "data": {
            "image/png": "[encoded data removed]",
            "text/plain": [
              "<Figure size 576x360 with 1 Axes>"
            ]
          },
          "metadata": {
            "tags": [],
            "needs_background": "light"
          }
        }
      ]
    },
    {
      "cell_type": "code",
      "metadata": {
        "id": "vMzKl-4F5W43",
        "colab": {
          "base_uri": "https://localhost:8080/",
          "height": 350
        },
        "outputId": "569579cd-38f8-49e9-b64b-1f86a529a6db"
      },
      "source": [
        "plt.figure(figsize=(8,5))\r\n",
        "plt.scatter(data['mass'], data['color_score'])\r\n",
        "plt.title('Mass & Color_Score')\r\n",
        "plt.xlabel('Mass')\r\n",
        "plt.ylabel('Color_Score')\r\n",
        "plt.show()"
      ],
      "execution_count": 8,
      "outputs": [
        {
          "output_type": "display_data",
          "data": {
            "image/png": "[encoded data removed]",
            "text/plain": [
              "<Figure size 576x360 with 1 Axes>"
            ]
          },
          "metadata": {
            "tags": [],
            "needs_background": "light"
          }
        }
      ]
    },
    {
      "cell_type": "code",
      "metadata": {
        "id": "OJIqbfvGP7xc",
        "colab": {
          "base_uri": "https://localhost:8080/",
          "height": 336
        },
        "outputId": "6782a002-df6f-4bd4-9b6c-36a1352bff8a"
      },
      "source": [
        "plt.figure(figsize=(9,5))\r\n",
        "plt.plot(data['height'], label='Height')\r\n",
        "plt.plot(data['width'], label='Width')\r\n",
        "plt.title('Hight & Weight Relation')\r\n",
        "plt.legend()\r\n",
        "plt.show()"
      ],
      "execution_count": 9,
      "outputs": [
        {
          "output_type": "display_data",
          "data": {
            "image/png": "[encoded data removed]",
            "text/plain": [
              "<Figure size 648x360 with 1 Axes>"
            ]
          },
          "metadata": {
            "tags": [],
            "needs_background": "light"
          }
        }
      ]
    },
    {
      "cell_type": "markdown",
      "metadata": {
        "id": "hYUd84-3PEa9"
      },
      "source": [
        "##### **Assigning Attributes to Variables**"
      ]
    },
    {
      "cell_type": "code",
      "metadata": {
        "id": "9elkiRTk5u6e"
      },
      "source": [
        "X = data.iloc[:, 2:].values\r\n",
        "y = data['fruit_label'].values"
      ],
      "execution_count": 10,
      "outputs": []
    },
    {
      "cell_type": "markdown",
      "metadata": {
        "id": "v2J6fwztPguB"
      },
      "source": [
        "##### *Feature Scaling*"
      ]
    },
    {
      "cell_type": "code",
      "metadata": {
        "id": "U6c7RGp35u5A"
      },
      "source": [
        "scaler = MMS()\r\n",
        "X = scaler.fit_transform(X)"
      ],
      "execution_count": 11,
      "outputs": []
    },
    {
      "cell_type": "markdown",
      "metadata": {
        "id": "-83MemL0Pqjw"
      },
      "source": [
        "### **Splitting Dataset into Training and Test Sets** "
      ]
    },
    {
      "cell_type": "code",
      "metadata": {
        "id": "VRYUpMBf5t_X"
      },
      "source": [
        "X_train, X_test, y_train, y_test = TTS(X, y, test_size = 0.3, random_state = 1234)"
      ],
      "execution_count": 12,
      "outputs": []
    },
    {
      "cell_type": "markdown",
      "metadata": {
        "id": "IxaYS2ypRHQd"
      },
      "source": [
        "### **KNN Classifier Function**"
      ]
    },
    {
      "cell_type": "code",
      "metadata": {
        "id": "xOF8LKKmT88z"
      },
      "source": [
        "def euclidean_distance(a, b):\r\n",
        "        return np.sqrt(np.sum((a - b)**2))\r\n",
        "\r\n",
        "class KNN:\r\n",
        "    def __init__(self, k=5):\r\n",
        "        self.k = k\r\n",
        "    def fit(self, X, y):\r\n",
        "        self.X_train = X\r\n",
        "        self.y_train = y\r\n",
        "    def predict(self, X):\r\n",
        "        y_predict = [self._predict(x) for x in X]\r\n",
        "        return np.array(y_predict)\r\n",
        "    def _predict(self, x):\r\n",
        "      import numpy as np\r\n",
        "      distances = [euclidean_distance(x, x_train) for x_train in self.X_train]\r\n",
        "      k_index = np.argsort(distances)[:self.k]\r\n",
        "      k_neighbor_labels = [self.y_train[i] for i in k_index]  \r\n",
        "      most_common = Counter(k_neighbor_labels).most_common(1)\r\n",
        "      return most_common[0][0]"
      ],
      "execution_count": 13,
      "outputs": []
    },
    {
      "cell_type": "markdown",
      "metadata": {
        "id": "GPwEaNnER4Sk"
      },
      "source": [
        "##### ***To determine the Best k - value***"
      ]
    },
    {
      "cell_type": "markdown",
      "metadata": {
        "id": "2lJ4QNiEkqi0"
      },
      "source": [
        "##### Elbow Method"
      ]
    },
    {
      "cell_type": "code",
      "metadata": {
        "id": "M3feu5WT4dZk",
        "colab": {
          "base_uri": "https://localhost:8080/",
          "height": 350
        },
        "outputId": "47240d27-39b8-402f-86b4-bb3ec0485d4f"
      },
      "source": [
        "from sklearn.neighbors import KNeighborsClassifier\r\n",
        "k = range(1,15)\r\n",
        "total_acc = []\r\n",
        "\r\n",
        "for i in k:\r\n",
        "    knn = KNeighborsClassifier(n_neighbors=i)\r\n",
        "    knn.fit(X_train,y_train)\r\n",
        "    acc = knn.score(X_test,y_test)\r\n",
        "    total_acc.append(acc)\r\n",
        "\r\n",
        "plt.figure(figsize=(9,5))\r\n",
        "plt.xlabel(\"value of K\")\r\n",
        "plt.ylabel(\"Accuracy\")\r\n",
        "plt.title(\"Select best value of k\")\r\n",
        "plt.plot(k,total_acc)\r\n",
        "plt.show()"
      ],
      "execution_count": 14,
      "outputs": [
        {
          "output_type": "display_data",
          "data": {
            "image/png": "[encoded data removed]",
            "text/plain": [
              "<Figure size 648x360 with 1 Axes>"
            ]
          },
          "metadata": {
            "tags": [],
            "needs_background": "light"
          }
        }
      ]
    },
    {
      "cell_type": "code",
      "metadata": {
        "id": "D6BuaFsuUcUl",
        "colab": {
          "base_uri": "https://localhost:8080/",
          "height": 368
        },
        "outputId": "da5692cc-6657-4bc1-f8ca-6d03c0fa2055"
      },
      "source": [
        "error_rate = []\r\n",
        "for i in range(1,25):\r\n",
        " knn = KNeighborsClassifier(n_neighbors=i)\r\n",
        " knn.fit(X_train,y_train)\r\n",
        " pred_i = knn.predict(X_test)\r\n",
        " error_rate.append(np.mean(pred_i != y_test))\r\n",
        "\r\n",
        "plt.figure(figsize=(9, 5))\r\n",
        "plt.plot(range(1,25),error_rate,color='blue', linestyle='dashed', \r\n",
        "         marker='o',markerfacecolor='red', markersize=10)\r\n",
        "plt.title('Error Rate vs. K Value')\r\n",
        "plt.xlabel('K')\r\n",
        "plt.ylabel('Error Rate')\r\n",
        "print(\"Minimum error:-\",min(error_rate),\"at K =\",error_rate.index(min(error_rate)))"
      ],
      "execution_count": 15,
      "outputs": [
        {
          "output_type": "stream",
          "text": [
            "Minimum error:- 0.1111111111111111 at K = 0\n"
          ],
          "name": "stdout"
        },
        {
          "output_type": "display_data",
          "data": {
            "image/png": "[encoded data removed]",
            "text/plain": [
              "<Figure size 648x360 with 1 Axes>"
            ]
          },
          "metadata": {
            "tags": [],
            "needs_background": "light"
          }
        }
      ]
    },
    {
      "cell_type": "markdown",
      "metadata": {
        "id": "fHUFbeuFlUNK"
      },
      "source": [
        "### **Prediction using the Classifier**"
      ]
    },
    {
      "cell_type": "code",
      "metadata": {
        "id": "pYXhAB5e4XNX"
      },
      "source": [
        "k = 1\r\n",
        "clf = KNN(k=k)\r\n",
        "clf.fit(X_train, y_train)\r\n",
        "predictions = clf.predict(X_test)"
      ],
      "execution_count": 16,
      "outputs": []
    },
    {
      "cell_type": "markdown",
      "metadata": {
        "id": "rxGEqDwglaZy"
      },
      "source": [
        "##### Classification Report"
      ]
    },
    {
      "cell_type": "code",
      "metadata": {
        "id": "CHTfyl3N7azM",
        "colab": {
          "base_uri": "https://localhost:8080/"
        },
        "outputId": "ed3b246a-1256-4cf8-c790-9f31e78d8b29"
      },
      "source": [
        "def Accuracy(y_true, y_predict):\n",
        "    accuracy = np.sum(y_true == y_predict) / len(y_true)\n",
        "    return accuracy\n",
        "\n",
        "def precision_score(y_test, y_predict):\n",
        "    true_positives = len([a for a, p in zip(y_test, y_predict) if a == p and p == 1])\n",
        "    false_positives = len([a for a, p in zip(y_test, y_predict) if a != p and p == 1])\n",
        "    return true_positives / (true_positives + false_positives)\n",
        "\n",
        "def f1_score(y_test,y_predict):\n",
        "    return 2 * (precision_score(y_test, predictions) * recall_score(y_test, predictions)) / (precision_score(y_test, predictions) + recall_score(y_test, predictions))\n",
        "\n",
        "def recall_score(actual, predicted):\n",
        "    true_positives = len([a for a, p in zip(actual, predicted) if a == p and p == 1])\n",
        "    false_negatives = len([a for a, p in zip(actual, predicted) if a != p and p == 0])\n",
        "    return true_positives / (true_positives + false_negatives)\n",
        "\n",
        "print(\"\\nCLASSIFICATION REPORT\")\n",
        "print(\"\\nAccuracy :\", round(Accuracy(y_test, predictions), 2))\n",
        "print(\"\\nPrecision:\", round(precision_score(y_test, predictions), 2))\n",
        "print(\"\\nF1 Score :\", round(f1_score(y_test, predictions), 2))\n",
        "print(\"\\nRecall   :\", round(recall_score(y_test, predictions), 2))"
      ],
      "execution_count": 17,
      "outputs": [
        {
          "output_type": "stream",
          "text": [
            "\n",
            "CLASSIFICATION REPORT\n",
            "\n",
            "Accuracy : 0.89\n",
            "\n",
            "Precision: 0.86\n",
            "\n",
            "F1 Score : 0.92\n",
            "\n",
            "Recall   : 1.0\n"
          ],
          "name": "stdout"
        }
      ]
    },
    {
      "cell_type": "markdown",
      "metadata": {
        "id": "a_AjjZn_lm63"
      },
      "source": [
        "##### Confusion Matrix"
      ]
    },
    {
      "cell_type": "code",
      "metadata": {
        "id": "NkxLKH1p74TD",
        "colab": {
          "base_uri": "https://localhost:8080/"
        },
        "outputId": "f7444e7c-e91c-459b-ffb4-02ea9c9a4eb1"
      },
      "source": [
        "classes = set(y_test)\n",
        "number_of_classes = len(classes)\n",
        "\n",
        "conf_matrix = pd.DataFrame(\n",
        "    np.zeros((number_of_classes, number_of_classes),dtype=int),\n",
        "    index=classes,\n",
        "    columns=classes)\n",
        "\n",
        "for i, j in zip(y_test, predictions):\n",
        "        conf_matrix.loc[i, j] += 1\n",
        "\n",
        "print(\"CONFUSION MATRIX:\\n\\n\", conf_matrix.values)"
      ],
      "execution_count": 18,
      "outputs": [
        {
          "output_type": "stream",
          "text": [
            "CONFUSION MATRIX:\n",
            "\n",
            " [[6 0 0 0]\n",
            " [0 2 0 0]\n",
            " [1 0 3 1]\n",
            " [0 0 0 5]]\n"
          ],
          "name": "stdout"
        }
      ]
    },
    {
      "cell_type": "markdown",
      "metadata": {
        "id": "XY8gxcHEmBSv"
      },
      "source": [
        "### **Test Cases**"
      ]
    },
    {
      "cell_type": "code",
      "metadata": {
        "id": "soNMTlburlb6",
        "colab": {
          "base_uri": "https://localhost:8080/"
        },
        "outputId": "6d25bc02-6254-4ca7-9aca-48bdb7c2b719"
      },
      "source": [
        "test_case_1 = clf.predict([[1.0,1.0,0.8,0.5]])\r\n",
        "print('The Fruit is: ', pred[test_case_1[0]])"
      ],
      "execution_count": 19,
      "outputs": [
        {
          "output_type": "stream",
          "text": [
            "The Fruit is:  orange\n"
          ],
          "name": "stdout"
        }
      ]
    },
    {
      "cell_type": "code",
      "metadata": {
        "id": "LyJQbd9Mv_ID",
        "colab": {
          "base_uri": "https://localhost:8080/"
        },
        "outputId": "df270912-f80f-4814-ed51-eecf61b3e2bc"
      },
      "source": [
        "test_case_2 = clf.predict([[0.0, 0.0, 0.0, 0.6]])\r\n",
        "print('The Fruit is: ', pred[test_case_2[0]])"
      ],
      "execution_count": 20,
      "outputs": [
        {
          "output_type": "stream",
          "text": [
            "The Fruit is:  mandarin\n"
          ],
          "name": "stdout"
        }
      ]
    },
    {
      "cell_type": "code",
      "metadata": {
        "id": "jXrgXad1_YAc",
        "colab": {
          "base_uri": "https://localhost:8080/"
        },
        "outputId": "8cdfb88c-3d8c-4e3f-c685-e9fe9bb1c86c"
      },
      "source": [
        "test_case_3 = clf.predict([[0.4, 0.3, 0.9, 0.4]])\r\n",
        "print('The Fruit is: ', pred[test_case_3[0]])"
      ],
      "execution_count": 21,
      "outputs": [
        {
          "output_type": "stream",
          "text": [
            "The Fruit is:  lemon\n"
          ],
          "name": "stdout"
        }
      ]
    }
  ]
}